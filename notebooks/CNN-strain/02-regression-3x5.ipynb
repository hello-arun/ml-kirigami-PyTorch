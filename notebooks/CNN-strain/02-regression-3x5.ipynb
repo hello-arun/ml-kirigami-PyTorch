{
  "cells": [
    {
      "cell_type": "markdown",
      "metadata": {},
      "source": [
        "## We will only use here 3x5 grid instead of fine grid 30x80"
      ]
    },
    {
      "cell_type": "code",
      "execution_count": 18,
      "metadata": {
        "colab": {
          "base_uri": "https://localhost:8080/"
        },
        "id": "dZG149sjfrvS",
        "outputId": "501abe12-6c61-4773-a6ce-0edd91ba40ec"
      },
      "outputs": [],
      "source": [
        "# %tensorflow_version 2.x  # this line is not required unless you are in a notebook\n",
        "import torch\n",
        "from torch.utils.data import DataLoader\n",
        "from torch.utils.data import TensorDataset\n",
        "import torch.nn as nn\n",
        "import torch.nn.functional as F\n",
        "import matplotlib\n",
        "# matplotlib.use('TKAgg')\n",
        "import matplotlib.pyplot as plt\n",
        "import numpy as np\n",
        "from torch.utils.data import random_split\n",
        "import os\n",
        "PROJECT_DIR = \"../../\"\n",
        "os.makedirs(\"./results/03x05-coarse-grid/\",exist_ok=True)"
      ]
    },
    {
      "cell_type": "code",
      "execution_count": 20,
      "metadata": {},
      "outputs": [
        {
          "data": {
            "image/png": "[encoded data removed]",
            "text/plain": [
              "<Figure size 648x252 with 3 Axes>"
            ]
          },
          "metadata": {},
          "output_type": "display_data"
        }
      ],
      "source": [
        "fig, axes = plt.subplots(1, 3)\n",
        "fig.set_facecolor(\"White\")\n",
        "fig.set_size_inches(9, 3.5)\n",
        "\n",
        "# fig.tight_layout(pad=0.1)\n"
      ]
    },
    {
      "cell_type": "code",
      "execution_count": 21,
      "metadata": {},
      "outputs": [],
      "source": [
        "def reset_fig():\n",
        "    for ax in axes:\n",
        "        ax.cla()\n",
        "        ax.set_xlim([0, 1])\n",
        "        ax.set_ylim([0, 1])\n",
        "        ax.set_xlabel(\"Predicted\")\n",
        "        ax.set_ylabel(\"Target\")\n",
        "        # ratio = 1.0\n",
        "        # x_left, x_right = ax.get_xlim()\n",
        "        # y_low, y_high = ax.get_ylim()\n",
        "        # ax.set_aspect(\"equal\")\n",
        "    axes[0].set_title(\"Train\")\n",
        "    axes[1].set_title(\"Validation\")\n",
        "    axes[2].set_title(\"Test\")\n",
        "    fig.suptitle(\"Hello\")\n",
        "    fig.subplots_adjust(\n",
        "        left=0.075,\n",
        "        right=0.975,\n",
        "        top=0.85,\n",
        "        bottom=0.15,\n",
        "        wspace=0.3, hspace=0)\n"
      ]
    },
    {
      "cell_type": "markdown",
      "metadata": {
        "id": "9S70acHFspzh"
      },
      "source": [
        "## Prepare Dataset"
      ]
    },
    {
      "cell_type": "code",
      "execution_count": 23,
      "metadata": {
        "id": "dGaSVmR3gI56"
      },
      "outputs": [],
      "source": [
        "alldata_15G = np.loadtxt(f'{PROJECT_DIR}/raw/alldata_15G.dat',dtype=np.float32)"
      ]
    },
    {
      "cell_type": "markdown",
      "metadata": {
        "id": "VeOarrgEtfVi"
      },
      "source": [
        "## Split Train, validation, test"
      ]
    },
    {
      "cell_type": "code",
      "execution_count": 24,
      "metadata": {
        "colab": {
          "base_uri": "https://localhost:8080/"
        },
        "id": "yC46CrU4tlWM",
        "outputId": "137e0969-375e-48cd-a0aa-8c4a3df1abcd"
      },
      "outputs": [
        {
          "name": "stdout",
          "output_type": "stream",
          "text": [
            "torch.float32 torch.float32\n"
          ]
        },
        {
          "data": {
            "text/plain": [
              "(23833, 2979, 2979)"
            ]
          },
          "execution_count": 24,
          "metadata": {},
          "output_type": "execute_result"
        }
      ],
      "source": [
        "FIG_NO=0\n",
        "FEATURES = 15\n",
        "STRAIN, TOUGHNESS, STRESS = -3, -2, 1\n",
        "prop=STRAIN\n",
        "max_prop = np.max(alldata_15G[:, STRAIN])\n",
        "\n",
        "inputs = torch.from_numpy(alldata_15G[:, 0:FEATURES]).float().reshape(-1,1,3,5)\n",
        "targets = torch.from_numpy(alldata_15G[:, prop]/max_prop).float().reshape(-1,1)\n",
        "print(targets.dtype,inputs.dtype)\n",
        "dataset = TensorDataset(inputs, targets)\n",
        "train_ds, val_ds, test_ds = random_split(dataset, [23833, 2979, 2979])\n",
        "len(train_ds), len(val_ds), len(test_ds)\n",
        "# Shuffle the data although not needed as it is already suffled\n",
        "# np.random.shuffle(alldata_15G)\n"
      ]
    },
    {
      "cell_type": "markdown",
      "metadata": {},
      "source": [
        "## DataLoader and Batch Size"
      ]
    },
    {
      "cell_type": "code",
      "execution_count": 25,
      "metadata": {},
      "outputs": [],
      "source": [
        "batch_size = 200\n",
        "train_dl = DataLoader(train_ds,batch_size,shuffle=True,pin_memory=True)\n",
        "val_dl = DataLoader(val_ds,batch_size,pin_memory=True)\n",
        "test_dl = DataLoader(test_ds,batch_size)"
      ]
    },
    {
      "cell_type": "markdown",
      "metadata": {
        "id": "Cuxttlngu3Kh"
      },
      "source": [
        "## Regression Model"
      ]
    },
    {
      "cell_type": "code",
      "execution_count": 26,
      "metadata": {},
      "outputs": [],
      "source": [
        "class KirigamiModel(nn.Module):\n",
        "    def __init__(self):\n",
        "        super().__init__()\n",
        "        self.network = nn.Sequential(\n",
        "            nn.Conv2d(1, 16, kernel_size=3, padding=\"same\"),\n",
        "            nn.ReLU(),              \n",
        "            # nn.MaxPool2d(2, 2),  # output: 16 x 3 x 5\n",
        "\n",
        "            nn.Conv2d(16, 32, kernel_size=3, padding=\"same\"),\n",
        "            nn.ReLU(),\n",
        "            # nn.MaxPool2d(2, 2),  # output: 32 x 3 x 5\n",
        "\n",
        "            nn.Conv2d(32, 64, kernel_size=3, padding=\"same\"),\n",
        "            nn.ReLU(),\n",
        "            # nn.MaxPool2d(2, 2),  # output: 64 x 3 x 5\n",
        "\n",
        "            nn.Flatten(),\n",
        "            nn.Linear(960,64),\n",
        "            nn.ReLU(),\n",
        "            nn.Linear(64,1),\n",
        "        )\n",
        "\n",
        "    def forward(self, xb):\n",
        "        return self.network(xb)\n",
        "\n",
        "    def training_step(self, batch):\n",
        "        images, targets = batch\n",
        "        preds = self(images)                  # Generate predictions\n",
        "        loss = F.mse_loss(preds, targets)  # Calculate loss\n",
        "        return loss\n",
        "\n",
        "    def validation_step(self, batch):\n",
        "        images, targets = batch\n",
        "        preds = self(images)                    # Generate predictions\n",
        "        loss = F.mse_loss(preds, targets)       # Calculate loss\n",
        "        # acc = accuracy(preds, targets)        # Calculate accuracy\n",
        "        return {'val_loss': loss.detach()}\n",
        "\n",
        "    def validation_epoch_end(self, outputs):\n",
        "        batch_losses = [x['val_loss'] for x in outputs]\n",
        "        epoch_loss = torch.stack(batch_losses).mean()   # Combine losses\n",
        "        # batch_accs = [x['val_acc'] for x in outputs]\n",
        "        # epoch_acc = torch.stack(batch_accs).mean()    # Combine accuracies\n",
        "        return {'val_loss': epoch_loss.item()}\n",
        "\n",
        "    def epoch_end(self, epoch, result):\n",
        "        print(\"Epoch [{}], train_loss: {:.4f}, val_loss: {:.4f}\".format(\n",
        "            epoch, result['train_loss'], result['val_loss']))\n",
        "\n",
        "model = KirigamiModel()\n",
        "# trial_input = torch.rand((4,1,30,80))\n",
        "# print(trial_input.dtype)\n",
        "# model(trial_input).shape\n"
      ]
    },
    {
      "cell_type": "code",
      "execution_count": 27,
      "metadata": {},
      "outputs": [],
      "source": [
        "def get_default_device():\n",
        "    \"\"\"Pick GPU if available, else CPU\"\"\"\n",
        "    if torch.cuda.is_available():\n",
        "        return torch.device('cuda')\n",
        "    else:\n",
        "        return torch.device('cpu')\n",
        "    \n",
        "def to_device(data, device):\n",
        "    \"\"\"Move tensor(s) to chosen device\"\"\"\n",
        "    if isinstance(data, (list,tuple)):\n",
        "        return [to_device(x, device) for x in data]\n",
        "    return data.to(device,non_blocking=True)\n",
        "\n",
        "class DeviceDataLoader():\n",
        "    \"\"\"Wrap a dataloader to move data to a device\"\"\"\n",
        "    def __init__(self, dl, device):\n",
        "        self.dl = dl\n",
        "        self.device = device\n",
        "        \n",
        "    def __iter__(self):\n",
        "        \"\"\"Yield a batch of data after moving it to device\"\"\"\n",
        "        for b in self.dl: \n",
        "            yield to_device(b, self.device)\n",
        "\n",
        "    def __len__(self):\n",
        "        \"\"\"Number of batches\"\"\"\n",
        "        return len(self.dl)"
      ]
    },
    {
      "cell_type": "code",
      "execution_count": 10,
      "metadata": {},
      "outputs": [],
      "source": [
        "device = get_default_device()\n",
        "train_dl = DeviceDataLoader(train_dl, device)\n",
        "val_dl = DeviceDataLoader(val_dl, device)\n",
        "test_dl = DeviceDataLoader(test_dl, device)\n",
        "model = to_device(model, device)"
      ]
    },
    {
      "cell_type": "code",
      "execution_count": 11,
      "metadata": {},
      "outputs": [],
      "source": [
        "@torch.no_grad()\n",
        "def evaluate(model, val_loader):\n",
        "    model.eval()\n",
        "    outputs = [model.validation_step(batch) for batch in val_loader]\n",
        "    return model.validation_epoch_end(outputs)\n",
        "def fit(epochs, lr, model, train_loader, val_loader, opt_func=torch.optim.Adam):\n",
        "    history = []\n",
        "    optimizer = opt_func(model.parameters(), lr)\n",
        "    for epoch in range(epochs):\n",
        "        # Training Phase \n",
        "        model.train()\n",
        "        train_losses = []\n",
        "        for batch in train_loader:\n",
        "            imgs, targets = batch\n",
        "            loss = model.training_step(batch)\n",
        "            train_losses.append(loss)\n",
        "            loss.backward()\n",
        "            optimizer.step()\n",
        "            optimizer.zero_grad()\n",
        "        # Validation phase\n",
        "        result = evaluate(model, val_loader)\n",
        "        result['train_loss'] = torch.stack(train_losses).mean().item()\n",
        "        model.epoch_end(epoch, result)\n",
        "        history.append(result)\n",
        "    return history"
      ]
    },
    {
      "cell_type": "code",
      "execution_count": 28,
      "metadata": {},
      "outputs": [],
      "source": [
        "num_epochs = 50\n",
        "opt_func = torch.optim.Adam\n",
        "lr = 0.001\n",
        "history=[]"
      ]
    },
    {
      "cell_type": "code",
      "execution_count": 30,
      "metadata": {},
      "outputs": [
        {
          "name": "stdout",
          "output_type": "stream",
          "text": [
            "Epoch [0], train_loss: 0.0003, val_loss: 0.0005\n",
            "Epoch [0], train_loss: 0.0002, val_loss: 0.0005\n",
            "Epoch [0], train_loss: 0.0002, val_loss: 0.0006\n",
            "Epoch [0], train_loss: 0.0002, val_loss: 0.0005\n",
            "Epoch [0], train_loss: 0.0002, val_loss: 0.0005\n",
            "Epoch [0], train_loss: 0.0002, val_loss: 0.0006\n",
            "Epoch [0], train_loss: 0.0002, val_loss: 0.0006\n",
            "Epoch [0], train_loss: 0.0002, val_loss: 0.0006\n",
            "Epoch [0], train_loss: 0.0002, val_loss: 0.0006\n",
            "Epoch [0], train_loss: 0.0002, val_loss: 0.0006\n",
            "Epoch [0], train_loss: 0.0002, val_loss: 0.0006\n",
            "Epoch [0], train_loss: 0.0002, val_loss: 0.0006\n",
            "Epoch [0], train_loss: 0.0002, val_loss: 0.0006\n",
            "Epoch [0], train_loss: 0.0002, val_loss: 0.0006\n",
            "Epoch [0], train_loss: 0.0002, val_loss: 0.0006\n",
            "Epoch [0], train_loss: 0.0002, val_loss: 0.0006\n",
            "Epoch [0], train_loss: 0.0002, val_loss: 0.0006\n",
            "Epoch [0], train_loss: 0.0002, val_loss: 0.0006\n",
            "Epoch [0], train_loss: 0.0002, val_loss: 0.0006\n",
            "Epoch [0], train_loss: 0.0002, val_loss: 0.0006\n",
            "Epoch [0], train_loss: 0.0002, val_loss: 0.0006\n",
            "Epoch [0], train_loss: 0.0002, val_loss: 0.0006\n",
            "Epoch [0], train_loss: 0.0002, val_loss: 0.0006\n",
            "Epoch [0], train_loss: 0.0002, val_loss: 0.0006\n",
            "Epoch [0], train_loss: 0.0002, val_loss: 0.0006\n",
            "Epoch [0], train_loss: 0.0002, val_loss: 0.0006\n",
            "Epoch [0], train_loss: 0.0002, val_loss: 0.0006\n",
            "Epoch [0], train_loss: 0.0002, val_loss: 0.0006\n",
            "Epoch [0], train_loss: 0.0002, val_loss: 0.0006\n",
            "Epoch [0], train_loss: 0.0002, val_loss: 0.0006\n",
            "Epoch [0], train_loss: 0.0002, val_loss: 0.0006\n",
            "Epoch [0], train_loss: 0.0002, val_loss: 0.0006\n",
            "Epoch [0], train_loss: 0.0002, val_loss: 0.0006\n",
            "Epoch [0], train_loss: 0.0002, val_loss: 0.0006\n",
            "Epoch [0], train_loss: 0.0002, val_loss: 0.0006\n",
            "Epoch [0], train_loss: 0.0002, val_loss: 0.0006\n",
            "Epoch [0], train_loss: 0.0002, val_loss: 0.0006\n",
            "Epoch [0], train_loss: 0.0002, val_loss: 0.0006\n",
            "Epoch [0], train_loss: 0.0002, val_loss: 0.0006\n",
            "Epoch [0], train_loss: 0.0002, val_loss: 0.0007\n",
            "Epoch [0], train_loss: 0.0002, val_loss: 0.0006\n",
            "Epoch [0], train_loss: 0.0002, val_loss: 0.0006\n",
            "Epoch [0], train_loss: 0.0002, val_loss: 0.0006\n",
            "Epoch [0], train_loss: 0.0002, val_loss: 0.0006\n",
            "Epoch [0], train_loss: 0.0002, val_loss: 0.0006\n",
            "Epoch [0], train_loss: 0.0002, val_loss: 0.0006\n",
            "Epoch [0], train_loss: 0.0001, val_loss: 0.0007\n",
            "Epoch [0], train_loss: 0.0002, val_loss: 0.0006\n",
            "Epoch [0], train_loss: 0.0002, val_loss: 0.0006\n",
            "Epoch [0], train_loss: 0.0001, val_loss: 0.0006\n"
          ]
        }
      ],
      "source": [
        "for i in range(num_epochs):\n",
        "    history = fit(1, lr, model, train_dl, val_dl, opt_func)\n",
        "    reset_fig()\n",
        "\n",
        "    for imgs,targets in train_dl:\n",
        "        axes[0].plot(model(imgs).detach().cpu(),targets.cpu(),\"k.\")\n",
        "        axes[0].plot([0,1],[0,1],\"r--\")\n",
        "\n",
        "    for imgs,targets in val_dl:\n",
        "        axes[1].plot(model(imgs).detach().cpu(),targets.cpu(),\"k.\")\n",
        "        axes[1].plot([0,1],[0,1],\"r--\")\n",
        "\n",
        "\n",
        "    for imgs,targets in test_dl:\n",
        "        axes[2].plot(model(imgs).detach().cpu(),targets.cpu(),\"k.\")\n",
        "        axes[2].plot([0,1],[0,1],\"r--\")\n",
        "    fig.suptitle(f\"Epoch: {FIG_NO:02d}\")\n",
        "    fig.savefig(F\"./results/03x05-coarse-grid/epoch-{FIG_NO:02d}.png\",dpi=300)\n",
        "    FIG_NO+=1"
      ]
    },
    {
      "cell_type": "markdown",
      "metadata": {},
      "source": [
        "## Save the model"
      ]
    },
    {
      "cell_type": "code",
      "execution_count": 32,
      "metadata": {},
      "outputs": [],
      "source": [
        "import os\n",
        "os.makedirs(\"./models/regression\",exist_ok=True)\n",
        "torch.save(model.state_dict(), './models/regression/f16-f32-f64-h64-3x5-coarse-grid.pth')\n"
      ]
    }
  ],
  "metadata": {
    "accelerator": "GPU",
    "colab": {
      "collapsed_sections": [
        "9S70acHFspzh"
      ],
      "name": "CNN-regression.ipynb",
      "provenance": []
    },
    "gpuClass": "standard",
    "kernelspec": {
      "display_name": "Python 3.10.4 64-bit ('pytorch-1.12.0')",
      "language": "python",
      "name": "python3"
    },
    "language_info": {
      "codemirror_mode": {
        "name": "ipython",
        "version": 3
      },
      "file_extension": ".py",
      "mimetype": "text/x-python",
      "name": "python",
      "nbconvert_exporter": "python",
      "pygments_lexer": "ipython3",
      "version": "3.10.4"
    },
    "vscode": {
      "interpreter": {
        "hash": "4bf133e68ea69dc128944cff77d5d532fddfd436c4ee2509df098c607a2dfdac"
      }
    }
  },
  "nbformat": 4,
  "nbformat_minor": 0
}
