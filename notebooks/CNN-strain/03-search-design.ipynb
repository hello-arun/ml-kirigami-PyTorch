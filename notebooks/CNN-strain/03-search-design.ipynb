{
  "cells": [
    {
      "cell_type": "code",
      "execution_count": 1,
      "metadata": {
        "colab": {
          "base_uri": "https://localhost:8080/"
        },
        "id": "dZG149sjfrvS",
        "outputId": "501abe12-6c61-4773-a6ce-0edd91ba40ec"
      },
      "outputs": [],
      "source": [
        "import torch\n",
        "from torch.utils.data import DataLoader,Subset,ConcatDataset\n",
        "from torch.utils.data import TensorDataset\n",
        "import torch.nn as nn\n",
        "import torch.nn.functional as F\n",
        "import numpy as np\n",
        "from torch.utils.data import random_split\n",
        "import os\n",
        "import matplotlib.pyplot as plt\n",
        "PROJECT_DIR = \"../../\"\n",
        "RESULT_DIR = \"./results-search-design/\"\n",
        "os.makedirs(RESULT_DIR,exist_ok=True)"
      ]
    },
    {
      "cell_type": "markdown",
      "metadata": {
        "id": "8ejWJTvRsUIz"
      },
      "source": [
        "## Helper class"
      ]
    },
    {
      "cell_type": "code",
      "execution_count": 2,
      "metadata": {
        "id": "OJHFWAjkhHj0"
      },
      "outputs": [],
      "source": [
        "class Helper:\n",
        "    def make_fine_grid(self,raw_data, n_corse_x = 3, n_corse_y = 5, n_fine_x = 30, n_fine_y = 80):\n",
        "        listFG = []  # List Fine Grid\n",
        "        N = len(raw_data)\n",
        "        for i in range(N):\n",
        "            print(f\"Pre Processing {i+1:05d}/{N}, {100*(i+1)//N}%\",end=\"\\r\")\n",
        "            kirigami_config = raw_data[i, 0:15]\n",
        "            inner_wCuts = self.corse_to_fine_config(\n",
        "                kirigami_config, n_corse_x, n_corse_y, n_fine_x, n_fine_y)\n",
        "            listFG.append(inner_wCuts)\n",
        "\n",
        "        alldata_FG = np.array(listFG)\n",
        "        alldata_FG = np.append(alldata_FG, raw_data[:, -3:], 1)\n",
        "        return alldata_FG\n",
        "\n",
        "    def corse_to_fine_config(self,kirigami_config, n_corse_x, n_corse_y, n_fine_x, n_fine_y):\n",
        "        \"\"\"\n",
        "        Make Fine Grid using corse grid\n",
        "        0 5 10     0  80  160 ... 2320\n",
        "        1 6 11     .  .    .  ... .\n",
        "        2 7 12  => .  .    .  ... .\n",
        "        3 8 13     .  .    .  ... .\n",
        "        4 9 14     79 159 239 ... 2399\n",
        "\n",
        "        Parameters\n",
        "        --------------------\n",
        "        kirigami_config: Corse Kirigami config of size n_corse_x * n_corse_y\n",
        "        return: Fine grid 1D array of size n_fine_x*n_fine_y\n",
        "        \"\"\"\n",
        "        fine_grid = np.ones((n_fine_x,n_fine_y))\n",
        "        mx, my = n_fine_x//n_corse_x, n_fine_y//n_corse_y  # 10 16\n",
        "        zeros = np.array([1]*mx)[:,np.newaxis]\n",
        "        zeros[mx//3:2*mx//3+1]=0\n",
        "        # ONLY MAKE CUTS inside the INNER REGION !!\n",
        "        for index,num in enumerate(kirigami_config):\n",
        "            if num == 0:\n",
        "                i_corse_x = index // n_corse_y\n",
        "                i_corse_y = index % n_corse_y\n",
        "                fine_grid[mx*i_corse_x:mx*(i_corse_x+1),my*i_corse_y:my*(i_corse_y+1)] = zeros\n",
        "        return fine_grid.flatten()\n",
        "helper = Helper()"
      ]
    },
    {
      "cell_type": "markdown",
      "metadata": {
        "id": "9S70acHFspzh"
      },
      "source": [
        "## Prepare Dataset\n",
        "We conver coarse grid data to fine grid data using helper class"
      ]
    },
    {
      "cell_type": "code",
      "execution_count": 3,
      "metadata": {
        "id": "dGaSVmR3gI56"
      },
      "outputs": [
        {
          "name": "stdout",
          "output_type": "stream",
          "text": [
            "Pre Processing 29791/29791, 100%\r"
          ]
        }
      ],
      "source": [
        "alldata_15G = np.loadtxt(f'{PROJECT_DIR}/raw/alldata_15G.dat',dtype=np.float32)\n",
        "alldata_FG = helper.make_fine_grid(alldata_15G)\n",
        "del alldata_15G\n",
        "del helper"
      ]
    },
    {
      "cell_type": "markdown",
      "metadata": {
        "id": "VeOarrgEtfVi"
      },
      "source": [
        "## Data Cleanup"
      ]
    },
    {
      "cell_type": "code",
      "execution_count": 4,
      "metadata": {
        "colab": {
          "base_uri": "https://localhost:8080/"
        },
        "id": "yC46CrU4tlWM",
        "outputId": "137e0969-375e-48cd-a0aa-8c4a3df1abcd"
      },
      "outputs": [],
      "source": [
        "FEATURES = len(alldata_FG[0])-3\n",
        "STRAIN, TOUGHNESS, STRESS = -3, -2, -1\n",
        "prop = STRAIN\n",
        "max_prop = np.max(alldata_FG[:, prop])\n",
        "inputs = torch.from_numpy(alldata_FG[:, 0:FEATURES]).float().reshape(-1,1,30,80)\n",
        "targets = torch.from_numpy(alldata_FG[:, prop]/max_prop).float().reshape(-1,1)\n",
        "dataset = TensorDataset(inputs,targets)\n",
        "del inputs,targets,alldata_FG\n",
        "# print(targets.dtype,inputs.dtype)"
      ]
    },
    {
      "cell_type": "markdown",
      "metadata": {},
      "source": [
        "# Training and searching"
      ]
    },
    {
      "cell_type": "code",
      "execution_count": 5,
      "metadata": {},
      "outputs": [],
      "source": [
        "class KirigamiModel(nn.Module):\n",
        "    def __init__(self):\n",
        "        super().__init__()\n",
        "        self.network = nn.Sequential(\n",
        "            nn.Conv2d(1, 16, kernel_size=3, padding=\"same\"),\n",
        "            nn.ReLU(),\n",
        "            nn.MaxPool2d(2, 2),  # output: 16 x 15 x 40\n",
        "\n",
        "            nn.Conv2d(16, 32, kernel_size=3, padding=\"same\"),\n",
        "            nn.ReLU(),\n",
        "            nn.MaxPool2d(2, 2),  # output: 32 x 7 x 20\n",
        "\n",
        "            nn.Conv2d(32, 64, kernel_size=3, padding=\"same\"),\n",
        "            nn.ReLU(),\n",
        "            nn.MaxPool2d(2, 2),  # output: 64 x 3 x 10\n",
        "\n",
        "            nn.Flatten(),\n",
        "            nn.Linear(1920,64),\n",
        "            nn.ReLU(),\n",
        "            nn.Linear(64,1),\n",
        "        )\n",
        "\n",
        "    def forward(self, xb):\n",
        "        return self.network(xb)\n",
        "\n",
        "    def training_step(self, batch):\n",
        "        images, targets = batch\n",
        "        preds = self(images)                  # Generate predictions\n",
        "        loss = F.mse_loss(preds, targets)  # Calculate loss\n",
        "        return loss\n",
        "\n",
        "    def validation_step(self, batch):\n",
        "        images, targets = batch\n",
        "        preds = self(images)                    # Generate predictions\n",
        "        loss = F.mse_loss(preds, targets)       # Calculate loss\n",
        "        # acc = accuracy(preds, targets)        # Calculate accuracy\n",
        "        return {'val_loss': loss.detach()}\n",
        "\n",
        "    def validation_epoch_end(self, outputs):\n",
        "        batch_losses = [x['val_loss'] for x in outputs]\n",
        "        epoch_loss = torch.stack(batch_losses).mean()   # Combine losses\n",
        "        # batch_accs = [x['val_acc'] for x in outputs]\n",
        "        # epoch_acc = torch.stack(batch_accs).mean()    # Combine accuracies\n",
        "        return {'val_loss': epoch_loss.item()}\n",
        "\n",
        "    def epoch_end(self, epoch, result):\n",
        "        print(\"Epoch [{}], train_loss: {:.4f}, val_loss: {:.4f}\".format(\n",
        "            epoch, result['train_loss'], result['val_loss']))\n",
        "# trial_input = torch.rand((4,1,30,80))\n",
        "# print(trial_input.dtype)\n",
        "# model(trial_input).shape"
      ]
    },
    {
      "cell_type": "code",
      "execution_count": 6,
      "metadata": {},
      "outputs": [],
      "source": [
        "@torch.no_grad()\n",
        "def evaluate(model, val_loader):\n",
        "    model.eval()\n",
        "    outputs = [model.validation_step(batch) for batch in val_loader]\n",
        "    return model.validation_epoch_end(outputs)\n",
        "def fit(epochs, lr, model, train_loader, val_loader, opt_func=torch.optim.Adam):\n",
        "    history = []\n",
        "    optimizer = opt_func(model.parameters(), lr)\n",
        "    for epoch in range(epochs):\n",
        "        # Training Phase \n",
        "        model.train()\n",
        "        train_losses = []\n",
        "        for batch in train_loader:\n",
        "            imgs, targets = batch\n",
        "            loss = model.training_step(batch)\n",
        "            train_losses.append(loss)\n",
        "            loss.backward()\n",
        "            optimizer.step()\n",
        "            optimizer.zero_grad()\n",
        "        # Validation phase\n",
        "        result = evaluate(model, val_loader)\n",
        "        result['train_loss'] = torch.stack(train_losses).mean().item()\n",
        "        model.epoch_end(epoch, result)\n",
        "        history.append(result)\n",
        "    return history"
      ]
    },
    {
      "cell_type": "code",
      "execution_count": 7,
      "metadata": {},
      "outputs": [],
      "source": [
        "def get_default_device():\n",
        "    \"\"\"Pick GPU if available, else CPU\"\"\"\n",
        "    if torch.cuda.is_available():\n",
        "        return torch.device('cuda')\n",
        "    else:\n",
        "        return torch.device('cpu')\n",
        "    \n",
        "def to_device(data, device):\n",
        "    \"\"\"Move tensor(s) to chosen device\"\"\"\n",
        "    if isinstance(data, (list,tuple)):\n",
        "        return [to_device(x, device) for x in data]\n",
        "    return data.to(device,non_blocking=True)\n",
        "\n",
        "class DeviceDataLoader():\n",
        "    \"\"\"Wrap a dataloader to move data to a device\"\"\"\n",
        "    def __init__(self, dl, device):\n",
        "        self.dl = dl\n",
        "        self.device = device\n",
        "        \n",
        "    def __iter__(self):\n",
        "        \"\"\"Yield a batch of data after moving it to device\"\"\"\n",
        "        for b in self.dl: \n",
        "            yield to_device(b, self.device)\n",
        "\n",
        "    def __len__(self):\n",
        "        \"\"\"Number of batches\"\"\"\n",
        "        return len(self.dl)"
      ]
    },
    {
      "cell_type": "code",
      "execution_count": 8,
      "metadata": {},
      "outputs": [],
      "source": [
        "num_samples = 100  # Number of initial samples\n",
        "num_generations = 10 # Numbers of generations to run to find optimal designs\n",
        "\n",
        "train_indicies = range(0,100)\n",
        "test_indicies = range(100,len(dataset))\n",
        "train_ds_full = Subset(dataset,range(0,100))\n",
        "test_ds = Subset(dataset,range(100,len(dataset)))\n",
        "plot_data = np.empty((0,2))\n",
        "gen_id=0"
      ]
    },
    {
      "cell_type": "code",
      "execution_count": 46,
      "metadata": {},
      "outputs": [],
      "source": [
        "train_size = int(0.9 * len(train_ds_full))\n",
        "val_size = len(train_ds_full) - train_size\n",
        "train_ds, val_ds = random_split(train_ds_full,[train_size,val_size])\n",
        "train_dl = DataLoader(train_ds,batch_size=50,shuffle=True,pin_memory=True)\n",
        "val_dl = DataLoader(val_ds,batch_size=10,pin_memory=True)\n",
        "test_dl = DataLoader(test_ds,batch_size=10)"
      ]
    },
    {
      "cell_type": "code",
      "execution_count": 47,
      "metadata": {},
      "outputs": [],
      "source": [
        "device = get_default_device()\n",
        "train_dl = DeviceDataLoader(train_dl, device)\n",
        "val_dl = DeviceDataLoader(val_dl, device)\n",
        "test_dl = DeviceDataLoader(test_dl, device)\n",
        "model = to_device(KirigamiModel(), device)"
      ]
    },
    {
      "cell_type": "code",
      "execution_count": 48,
      "metadata": {},
      "outputs": [
        {
          "name": "stdout",
          "output_type": "stream",
          "text": [
            "Epoch [0], train_loss: 0.0656, val_loss: 0.0528\n",
            "Epoch [1], train_loss: 0.0361, val_loss: 0.0447\n",
            "Epoch [2], train_loss: 0.0329, val_loss: 0.0430\n",
            "Epoch [3], train_loss: 0.0309, val_loss: 0.0388\n",
            "Epoch [4], train_loss: 0.0293, val_loss: 0.0370\n",
            "Epoch [5], train_loss: 0.0265, val_loss: 0.0320\n",
            "Epoch [6], train_loss: 0.0256, val_loss: 0.0292\n",
            "Epoch [7], train_loss: 0.0226, val_loss: 0.0321\n",
            "Epoch [8], train_loss: 0.0239, val_loss: 0.0238\n",
            "Epoch [9], train_loss: 0.0211, val_loss: 0.0233\n",
            "Epoch [10], train_loss: 0.0203, val_loss: 0.0211\n",
            "Epoch [11], train_loss: 0.0171, val_loss: 0.0179\n",
            "Epoch [12], train_loss: 0.0154, val_loss: 0.0155\n",
            "Epoch [13], train_loss: 0.0138, val_loss: 0.0139\n",
            "Epoch [14], train_loss: 0.0118, val_loss: 0.0124\n"
          ]
        }
      ],
      "source": [
        "history =[]\n",
        "history += fit(15, 0.001, model, train_dl, val_dl, torch.optim.Adam)"
      ]
    },
    {
      "cell_type": "code",
      "execution_count": 49,
      "metadata": {},
      "outputs": [
        {
          "name": "stdout",
          "output_type": "stream",
          "text": [
            "29091\n",
            "29091 700\n"
          ]
        }
      ],
      "source": [
        "preds = torch.tensor([])\n",
        "for batch in test_dl:\n",
        "    imgs,targets = batch \n",
        "    preds =  torch.cat((preds,model(imgs).detach().flatten().cpu()),dim=0)\n",
        "print(len(preds))\n",
        "\n",
        "reals = torch.tensor([])\n",
        "for batch in train_dl:\n",
        "    _,targets = batch \n",
        "    reals =  torch.cat((reals,targets.flatten().cpu()),dim=0)\n",
        "for batch in val_dl:\n",
        "    _,targets = batch \n",
        "    reals =  torch.cat((reals,targets.flatten().cpu()),dim=0)\n",
        "   \n",
        "print(len(preds),len(reals))\n"
      ]
    },
    {
      "cell_type": "code",
      "execution_count": 50,
      "metadata": {},
      "outputs": [
        {
          "name": "stdout",
          "output_type": "stream",
          "text": [
            "100\n",
            "800\n",
            "28991\n"
          ]
        }
      ],
      "source": [
        "y_pred=preds.numpy()\n",
        "\n",
        "max,_= torch.topk(reals,100)\n",
        "max=torch.mean(max).item()\n",
        "plot_data = np.append(plot_data,[[gen_id,max]],axis=0)\n",
        "\n",
        "sample_indices = np.argpartition(y_pred,-num_samples)[-num_samples:]  # Best Performers\n",
        "\n",
        "new_train_ds = Subset(test_ds,sample_indices)\n",
        "print(len(new_train_ds))\n",
        "train_ds_full = ConcatDataset((train_ds_full,new_train_ds))\n",
        "\n",
        "mask=torch.ones(len(test_ds))\n",
        "mask[sample_indices] = 0\n",
        "test_ds = Subset(test_ds,torch.where(mask == 1)[0])\n",
        "\n",
        "print(len(train_ds_full))\n",
        "print(len(test_ds))\n",
        "gen_id+=1"
      ]
    },
    {
      "cell_type": "code",
      "execution_count": 52,
      "metadata": {},
      "outputs": [
        {
          "data": {
            "image/png": "[encoded data removed]",
            "text/plain": [
              "<Figure size 432x288 with 1 Axes>"
            ]
          },
          "metadata": {
            "needs_background": "light"
          },
          "output_type": "display_data"
        }
      ],
      "source": [
        "plt.cla()\n",
        "plt.plot(plot_data[:,0],plot_data[:,1])\n",
        "plt.xlim(0,10)\n",
        "plt.ylim(0,1)\n",
        "plt.savefig(\"./temp.png\",facecolor=\"White\")\n"
      ]
    },
    {
      "cell_type": "markdown",
      "metadata": {},
      "source": [
        "## Save the model"
      ]
    },
    {
      "cell_type": "code",
      "execution_count": 15,
      "metadata": {},
      "outputs": [],
      "source": [
        "# import os\n",
        "# os.makedirs(\"./models/regression\",exist_ok=True)\n",
        "# torch.save(model.state_dict(), './models/regression/f16-f32-f64-h64.pth')\n"
      ]
    }
  ],
  "metadata": {
    "accelerator": "GPU",
    "colab": {
      "collapsed_sections": [
        "9S70acHFspzh"
      ],
      "name": "CNN-regression.ipynb",
      "provenance": []
    },
    "gpuClass": "standard",
    "kernelspec": {
      "display_name": "Python 3.10.4 64-bit ('pytorch-1.12.0')",
      "language": "python",
      "name": "python3"
    },
    "language_info": {
      "codemirror_mode": {
        "name": "ipython",
        "version": 3
      },
      "file_extension": ".py",
      "mimetype": "text/x-python",
      "name": "python",
      "nbconvert_exporter": "python",
      "pygments_lexer": "ipython3",
      "version": "3.10.4"
    },
    "vscode": {
      "interpreter": {
        "hash": "4bf133e68ea69dc128944cff77d5d532fddfd436c4ee2509df098c607a2dfdac"
      }
    }
  },
  "nbformat": 4,
  "nbformat_minor": 0
}
